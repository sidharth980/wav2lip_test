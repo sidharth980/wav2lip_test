{
  "nbformat": 4,
  "nbformat_minor": 0,
  "metadata": {
    "colab": {
      "provenance": []
    },
    "kernelspec": {
      "name": "python3",
      "display_name": "Python 3"
    },
    "accelerator": "GPU"
  },
  "cells": [
    {
      "cell_type": "markdown",
      "source": [
        "Download content in this google drive upload it to your dive"
      ],
      "metadata": {
        "id": "SkRxWQbsGEgo"
      }
    },
    {
      "cell_type": "code",
      "metadata": {
        "id": "qciH4PsUazL_",
        "colab": {
          "base_uri": "https://localhost:8080/"
        },
        "outputId": "7599ccab-6083-4377-aa23-9aa1733bd5b7"
      },
      "source": [
        "from google.colab import drive\n",
        "drive.mount('/content/gdrive')"
      ],
      "execution_count": 2,
      "outputs": [
        {
          "output_type": "stream",
          "name": "stdout",
          "text": [
            "Mounted at /content/gdrive\n"
          ]
        }
      ]
    },
    {
      "cell_type": "code",
      "metadata": {
        "id": "P3LihClHbUd3",
        "colab": {
          "base_uri": "https://localhost:8080/"
        },
        "outputId": "db81561d-3646-4104-fd2b-a64406a380a0"
      },
      "source": [
        "!git clone https://github.com/Rudrabha/Wav2Lip.git"
      ],
      "execution_count": 3,
      "outputs": [
        {
          "output_type": "stream",
          "name": "stdout",
          "text": [
            "Cloning into 'Wav2Lip'...\n",
            "remote: Enumerating objects: 369, done.\u001b[K\n",
            "remote: Counting objects: 100% (9/9), done.\u001b[K\n",
            "remote: Compressing objects: 100% (8/8), done.\u001b[K\n",
            "remote: Total 369 (delta 4), reused 3 (delta 1), pack-reused 360\u001b[K\n",
            "Receiving objects: 100% (369/369), 528.94 KiB | 12.59 MiB/s, done.\n",
            "Resolving deltas: 100% (202/202), done.\n"
          ]
        }
      ]
    },
    {
      "cell_type": "code",
      "source": [
        "!cp \"/content/gdrive/MyDrive/Wav2Lip/inference.py\" \"/content/Wav2Lip/\""
      ],
      "metadata": {
        "id": "m8wTZTCEG2OA"
      },
      "execution_count": 26,
      "outputs": []
    },
    {
      "cell_type": "code",
      "metadata": {
        "id": "y-19nzx8SamJ",
        "colab": {
          "base_uri": "https://localhost:8080/"
        },
        "outputId": "29a29f8d-0cdd-44f8-af93-6b21556005c7"
      },
      "source": [
        "!ls /content/gdrive/MyDrive/Wav2Lip"
      ],
      "execution_count": 4,
      "outputs": [
        {
          "output_type": "stream",
          "name": "stdout",
          "text": [
            " output10.wav\n",
            "'TechNews 1562 __ IPL Final, OLA Prime Plus, Love scam, Motorola Edge 40, Premium TV Days Etc....mp4'\n",
            " wav2lip_gan.pth\n"
          ]
        }
      ]
    },
    {
      "cell_type": "code",
      "metadata": {
        "id": "YjzMPy_Sb0AI"
      },
      "source": [
        "!cp -ri \"/content/gdrive/MyDrive/Wav2Lip/wav2lip.pth\" /content/Wav2Lip/checkpoints/"
      ],
      "execution_count": 23,
      "outputs": []
    },
    {
      "cell_type": "code",
      "metadata": {
        "id": "Ooh28vw-Uvd3",
        "colab": {
          "base_uri": "https://localhost:8080/"
        },
        "outputId": "db04e054-59c1-42c5-dd7b-d89f1a90d661"
      },
      "source": [
        "!pip uninstall librosa\n",
        "!pip install librosa==0.8.0"
      ],
      "execution_count": 14,
      "outputs": [
        {
          "output_type": "stream",
          "name": "stdout",
          "text": [
            "\u001b[33mWARNING: Skipping librosa as it is not installed.\u001b[0m\u001b[33m\n",
            "\u001b[0mCollecting librosa==0.8.0\n",
            "  Downloading librosa-0.8.0.tar.gz (183 kB)\n",
            "\u001b[2K     \u001b[90m━━━━━━━━━━━━━━━━━━━━━━━━━━━━━━━━━━━━━━━━\u001b[0m \u001b[32m183.9/183.9 kB\u001b[0m \u001b[31m4.0 MB/s\u001b[0m eta \u001b[36m0:00:00\u001b[0m\n",
            "\u001b[?25h  Preparing metadata (setup.py) ... \u001b[?25l\u001b[?25hdone\n",
            "Requirement already satisfied: audioread>=2.0.0 in /usr/local/lib/python3.10/dist-packages (from librosa==0.8.0) (3.0.1)\n",
            "Requirement already satisfied: numpy>=1.15.0 in /usr/local/lib/python3.10/dist-packages (from librosa==0.8.0) (1.23.5)\n",
            "Requirement already satisfied: scipy>=1.0.0 in /usr/local/lib/python3.10/dist-packages (from librosa==0.8.0) (1.11.3)\n",
            "Requirement already satisfied: scikit-learn!=0.19.0,>=0.14.0 in /usr/local/lib/python3.10/dist-packages (from librosa==0.8.0) (1.2.2)\n",
            "Requirement already satisfied: joblib>=0.14 in /usr/local/lib/python3.10/dist-packages (from librosa==0.8.0) (1.3.2)\n",
            "Requirement already satisfied: decorator>=3.0.0 in /usr/local/lib/python3.10/dist-packages (from librosa==0.8.0) (4.4.2)\n",
            "Collecting resampy>=0.2.2 (from librosa==0.8.0)\n",
            "  Downloading resampy-0.4.2-py3-none-any.whl (3.1 MB)\n",
            "\u001b[2K     \u001b[90m━━━━━━━━━━━━━━━━━━━━━━━━━━━━━━━━━━━━━━━━\u001b[0m \u001b[32m3.1/3.1 MB\u001b[0m \u001b[31m13.8 MB/s\u001b[0m eta \u001b[36m0:00:00\u001b[0m\n",
            "\u001b[?25hRequirement already satisfied: numba>=0.43.0 in /usr/local/lib/python3.10/dist-packages (from librosa==0.8.0) (0.58.1)\n",
            "Requirement already satisfied: soundfile>=0.9.0 in /usr/local/lib/python3.10/dist-packages (from librosa==0.8.0) (0.12.1)\n",
            "Requirement already satisfied: pooch>=1.0 in /usr/local/lib/python3.10/dist-packages (from librosa==0.8.0) (1.8.0)\n",
            "Requirement already satisfied: llvmlite<0.42,>=0.41.0dev0 in /usr/local/lib/python3.10/dist-packages (from numba>=0.43.0->librosa==0.8.0) (0.41.1)\n",
            "Requirement already satisfied: platformdirs>=2.5.0 in /usr/local/lib/python3.10/dist-packages (from pooch>=1.0->librosa==0.8.0) (3.11.0)\n",
            "Requirement already satisfied: packaging>=20.0 in /usr/local/lib/python3.10/dist-packages (from pooch>=1.0->librosa==0.8.0) (23.2)\n",
            "Requirement already satisfied: requests>=2.19.0 in /usr/local/lib/python3.10/dist-packages (from pooch>=1.0->librosa==0.8.0) (2.31.0)\n",
            "Requirement already satisfied: threadpoolctl>=2.0.0 in /usr/local/lib/python3.10/dist-packages (from scikit-learn!=0.19.0,>=0.14.0->librosa==0.8.0) (3.2.0)\n",
            "Requirement already satisfied: cffi>=1.0 in /usr/local/lib/python3.10/dist-packages (from soundfile>=0.9.0->librosa==0.8.0) (1.16.0)\n",
            "Requirement already satisfied: pycparser in /usr/local/lib/python3.10/dist-packages (from cffi>=1.0->soundfile>=0.9.0->librosa==0.8.0) (2.21)\n",
            "Requirement already satisfied: charset-normalizer<4,>=2 in /usr/local/lib/python3.10/dist-packages (from requests>=2.19.0->pooch>=1.0->librosa==0.8.0) (3.3.2)\n",
            "Requirement already satisfied: idna<4,>=2.5 in /usr/local/lib/python3.10/dist-packages (from requests>=2.19.0->pooch>=1.0->librosa==0.8.0) (3.4)\n",
            "Requirement already satisfied: urllib3<3,>=1.21.1 in /usr/local/lib/python3.10/dist-packages (from requests>=2.19.0->pooch>=1.0->librosa==0.8.0) (2.0.7)\n",
            "Requirement already satisfied: certifi>=2017.4.17 in /usr/local/lib/python3.10/dist-packages (from requests>=2.19.0->pooch>=1.0->librosa==0.8.0) (2023.7.22)\n",
            "Building wheels for collected packages: librosa\n",
            "  Building wheel for librosa (setup.py) ... \u001b[?25l\u001b[?25hdone\n",
            "  Created wheel for librosa: filename=librosa-0.8.0-py3-none-any.whl size=201367 sha256=01d9fe6739a5b94c9988c5c0039308b7df3e9a80484aa59e24b34f889ae0ade0\n",
            "  Stored in directory: /root/.cache/pip/wheels/bf/b7/85/2f8044306ccec014930aea23ad4852fca9e2584e21c6972bc6\n",
            "Successfully built librosa\n",
            "Installing collected packages: resampy, librosa\n",
            "Successfully installed librosa-0.8.0 resampy-0.4.2\n"
          ]
        }
      ]
    },
    {
      "cell_type": "code",
      "metadata": {
        "id": "49dCYlLdcK2D",
        "colab": {
          "base_uri": "https://localhost:8080/"
        },
        "outputId": "042f5082-3e51-4c8d-8b10-496a31e8c36d"
      },
      "source": [
        "!cd Wav2Lip && pip install -r requirements.txt"
      ],
      "execution_count": 6,
      "outputs": [
        {
          "output_type": "stream",
          "name": "stdout",
          "text": [
            "Collecting librosa==0.7.0 (from -r requirements.txt (line 1))\n",
            "  Downloading librosa-0.7.0.tar.gz (1.6 MB)\n",
            "\u001b[2K     \u001b[90m━━━━━━━━━━━━━━━━━━━━━━━━━━━━━━━━━━━━━━━━\u001b[0m \u001b[32m1.6/1.6 MB\u001b[0m \u001b[31m9.3 MB/s\u001b[0m eta \u001b[36m0:00:00\u001b[0m\n",
            "\u001b[?25h  Preparing metadata (setup.py) ... \u001b[?25l\u001b[?25hdone\n",
            "Collecting numpy==1.17.1 (from -r requirements.txt (line 2))\n",
            "  Downloading numpy-1.17.1.zip (6.5 MB)\n",
            "\u001b[2K     \u001b[90m━━━━━━━━━━━━━━━━━━━━━━━━━━━━━━━━━━━━━━━━\u001b[0m \u001b[32m6.5/6.5 MB\u001b[0m \u001b[31m28.7 MB/s\u001b[0m eta \u001b[36m0:00:00\u001b[0m\n",
            "\u001b[?25h  Preparing metadata (setup.py) ... \u001b[?25l\u001b[?25hdone\n",
            "Requirement already satisfied: opencv-contrib-python>=4.2.0.34 in /usr/local/lib/python3.10/dist-packages (from -r requirements.txt (line 3)) (4.8.0.76)\n",
            "\u001b[31mERROR: Could not find a version that satisfies the requirement opencv-python==4.1.0.25 (from versions: 3.4.0.14, 3.4.10.37, 3.4.11.39, 3.4.11.41, 3.4.11.43, 3.4.11.45, 3.4.13.47, 3.4.15.55, 3.4.16.57, 3.4.16.59, 3.4.17.61, 3.4.17.63, 3.4.18.65, 4.3.0.38, 4.4.0.40, 4.4.0.42, 4.4.0.44, 4.4.0.46, 4.5.1.48, 4.5.3.56, 4.5.4.58, 4.5.4.60, 4.5.5.62, 4.5.5.64, 4.6.0.66, 4.7.0.68, 4.7.0.72, 4.8.0.74, 4.8.0.76, 4.8.1.78)\u001b[0m\u001b[31m\n",
            "\u001b[0m\u001b[31mERROR: No matching distribution found for opencv-python==4.1.0.25\u001b[0m\u001b[31m\n",
            "\u001b[0m"
          ]
        }
      ]
    },
    {
      "cell_type": "code",
      "metadata": {
        "id": "ey_bN4M6X_95",
        "colab": {
          "base_uri": "https://localhost:8080/"
        },
        "outputId": "4d307d7d-e0d1-4fae-f4c5-953a1effe092"
      },
      "source": [
        "!wget \"https://www.adrianbulat.com/downloads/python-fan/s3fd-619a316812.pth\" -O \"Wav2Lip/face_detection/detection/sfd/s3fd.pth\""
      ],
      "execution_count": 7,
      "outputs": [
        {
          "output_type": "stream",
          "name": "stdout",
          "text": [
            "--2023-11-13 12:51:18--  https://www.adrianbulat.com/downloads/python-fan/s3fd-619a316812.pth\n",
            "Resolving www.adrianbulat.com (www.adrianbulat.com)... 45.136.29.207\n",
            "Connecting to www.adrianbulat.com (www.adrianbulat.com)|45.136.29.207|:443... connected.\n",
            "HTTP request sent, awaiting response... 200 OK\n",
            "Length: 89843225 (86M) [application/octet-stream]\n",
            "Saving to: ‘Wav2Lip/face_detection/detection/sfd/s3fd.pth’\n",
            "\n",
            "Wav2Lip/face_detect 100%[===================>]  85.68M  2.94MB/s    in 18s     \n",
            "\n",
            "2023-11-13 12:51:37 (4.80 MB/s) - ‘Wav2Lip/face_detection/detection/sfd/s3fd.pth’ saved [89843225/89843225]\n",
            "\n"
          ]
        }
      ]
    },
    {
      "cell_type": "code",
      "metadata": {
        "id": "KoVGMtjRZfeR",
        "colab": {
          "base_uri": "https://localhost:8080/"
        },
        "outputId": "2945dca1-3ca8-4449-a899-18aaecf50b6d"
      },
      "source": [
        "!cp \"/content/gdrive/MyDrive/Wav2Lip/vid.mp4\" \"/content/gdrive/MyDrive/Wav2Lip/output10.wav\" sample_data/\n",
        "!ls sample_data/"
      ],
      "execution_count": 8,
      "outputs": [
        {
          "output_type": "stream",
          "name": "stdout",
          "text": [
            "anscombe.json\t\t     california_housing_train.csv  mnist_train_small.csv  README.md\n",
            "california_housing_test.csv  mnist_test.csv\t\t   output10.wav\t\t  vid.mp4\n"
          ]
        }
      ]
    },
    {
      "cell_type": "code",
      "metadata": {
        "id": "jR5utmDMcSZY",
        "colab": {
          "base_uri": "https://localhost:8080/"
        },
        "outputId": "af0606ae-7bd6-4b00-d498-28dc8c02d955"
      },
      "source": [
        "!cd Wav2Lip && python inference.py --checkpoint_path checkpoints/wav2lip.pth --face \"../sample_data/vid.mp4\" --audio \"../sample_data/output10.wav\""
      ],
      "execution_count": 24,
      "outputs": [
        {
          "output_type": "stream",
          "name": "stdout",
          "text": [
            "Using cuda for inference.\n",
            "Reading video frames...\n",
            "Number of frames available for inference: 2016\n",
            "(80, 5386)\n",
            "Length of mel chunks: 2016\n",
            "  0% 0/16 [00:00<?, ?it/s]\n",
            "  0% 0/126 [00:00<?, ?it/s]\u001b[A\n",
            "  1% 1/126 [02:52<5:58:43, 172.19s/it]\u001b[A\n",
            "  2% 2/126 [02:55<2:30:59, 73.06s/it] \u001b[A\n",
            "  2% 3/126 [02:58<1:24:08, 41.04s/it]\u001b[A\n",
            "  3% 4/126 [03:01<52:41, 25.92s/it]  \u001b[A\n",
            "  4% 5/126 [03:04<35:24, 17.56s/it]\u001b[A\n",
            "  5% 6/126 [03:07<25:16, 12.64s/it]\u001b[A\n",
            "  6% 7/126 [03:10<18:51,  9.51s/it]\u001b[A\n",
            "  6% 8/126 [03:13<14:27,  7.35s/it]\u001b[A\n",
            "  7% 9/126 [03:15<11:32,  5.92s/it]\u001b[A\n",
            "  8% 10/126 [03:18<09:32,  4.94s/it]\u001b[A\n",
            "  9% 11/126 [03:21<08:13,  4.29s/it]\u001b[A\n",
            " 10% 12/126 [03:24<07:27,  3.92s/it]\u001b[A\n",
            " 10% 13/126 [03:27<06:52,  3.65s/it]\u001b[A\n",
            " 11% 14/126 [03:30<06:17,  3.37s/it]\u001b[A\n",
            " 12% 15/126 [03:33<05:53,  3.18s/it]\u001b[A\n",
            " 13% 16/126 [03:35<05:36,  3.06s/it]\u001b[A\n",
            " 13% 17/126 [03:38<05:27,  3.00s/it]\u001b[A\n",
            " 14% 18/126 [03:41<05:24,  3.01s/it]\u001b[A\n",
            " 15% 19/126 [03:44<05:21,  3.00s/it]\u001b[A\n",
            " 16% 20/126 [03:47<05:16,  2.99s/it]\u001b[A\n",
            " 17% 21/126 [03:50<05:11,  2.96s/it]\u001b[A\n",
            " 17% 22/126 [03:53<05:09,  2.98s/it]\u001b[A\n",
            " 18% 23/126 [03:56<05:16,  3.08s/it]\u001b[A\n",
            " 19% 24/126 [04:00<05:15,  3.09s/it]\u001b[A\n",
            " 20% 25/126 [04:02<05:04,  3.02s/it]\u001b[A\n",
            " 21% 26/126 [04:05<04:56,  2.96s/it]\u001b[A\n",
            " 21% 27/126 [04:08<04:53,  2.97s/it]\u001b[A\n",
            " 22% 28/126 [04:11<04:58,  3.04s/it]\u001b[A\n",
            " 23% 29/126 [04:15<04:57,  3.06s/it]\u001b[A\n",
            " 24% 30/126 [04:17<04:48,  3.00s/it]\u001b[A\n",
            " 25% 31/126 [04:20<04:39,  2.94s/it]\u001b[A\n",
            " 25% 32/126 [04:23<04:28,  2.86s/it]\u001b[A\n",
            " 26% 33/126 [04:26<04:21,  2.81s/it]\u001b[A\n",
            " 27% 34/126 [04:29<04:23,  2.86s/it]\u001b[A\n",
            " 28% 35/126 [04:31<04:22,  2.89s/it]\u001b[A\n",
            " 29% 36/126 [04:34<04:13,  2.82s/it]\u001b[A\n",
            " 29% 37/126 [04:37<04:06,  2.78s/it]\u001b[A\n",
            " 30% 38/126 [04:39<04:01,  2.75s/it]\u001b[A\n",
            " 31% 39/126 [04:42<03:57,  2.72s/it]\u001b[A\n",
            " 32% 40/126 [04:45<04:00,  2.79s/it]\u001b[A\n",
            " 33% 41/126 [04:48<04:01,  2.84s/it]\u001b[A\n",
            " 33% 42/126 [04:51<03:55,  2.81s/it]\u001b[A\n",
            " 34% 43/126 [04:54<03:52,  2.80s/it]\u001b[A\n",
            " 35% 44/126 [04:56<03:50,  2.81s/it]\u001b[A\n",
            " 36% 45/126 [04:59<03:54,  2.89s/it]\u001b[A\n",
            " 37% 46/126 [05:02<03:54,  2.93s/it]\u001b[A\n",
            " 37% 47/126 [05:05<03:46,  2.87s/it]\u001b[A\n",
            " 38% 48/126 [05:08<03:41,  2.85s/it]\u001b[A\n",
            " 39% 49/126 [05:11<03:37,  2.83s/it]\u001b[A\n",
            " 40% 50/126 [05:14<03:34,  2.82s/it]\u001b[A\n",
            " 40% 51/126 [05:17<03:38,  2.91s/it]\u001b[A\n",
            " 41% 52/126 [05:20<03:39,  2.97s/it]\u001b[A\n",
            " 42% 53/126 [05:23<03:32,  2.92s/it]\u001b[A\n",
            " 43% 54/126 [05:25<03:27,  2.88s/it]\u001b[A\n",
            " 44% 55/126 [05:28<03:23,  2.86s/it]\u001b[A\n",
            " 44% 56/126 [05:31<03:25,  2.93s/it]\u001b[A\n",
            " 45% 57/126 [05:34<03:24,  2.97s/it]\u001b[A\n",
            " 46% 58/126 [05:37<03:18,  2.92s/it]\u001b[A\n",
            " 47% 59/126 [05:40<03:12,  2.87s/it]\u001b[A\n",
            " 48% 60/126 [05:43<03:07,  2.83s/it]\u001b[A\n",
            " 48% 61/126 [05:46<03:03,  2.83s/it]\u001b[A\n",
            " 49% 62/126 [05:49<03:05,  2.90s/it]\u001b[A\n",
            " 50% 63/126 [05:52<03:05,  2.95s/it]\u001b[A\n",
            " 51% 64/126 [05:54<02:58,  2.89s/it]\u001b[A\n",
            " 52% 65/126 [05:57<02:53,  2.84s/it]\u001b[A\n",
            " 52% 66/126 [06:00<02:49,  2.82s/it]\u001b[A\n",
            " 53% 67/126 [06:03<02:48,  2.85s/it]\u001b[A\n",
            " 54% 68/126 [06:06<02:50,  2.94s/it]\u001b[A\n",
            " 55% 69/126 [06:09<02:46,  2.92s/it]\u001b[A\n",
            " 56% 70/126 [06:12<02:40,  2.87s/it]\u001b[A\n",
            " 56% 71/126 [06:14<02:36,  2.84s/it]\u001b[A\n",
            " 57% 72/126 [06:17<02:33,  2.84s/it]\u001b[A\n",
            " 58% 73/126 [06:20<02:34,  2.92s/it]\u001b[A\n",
            " 59% 74/126 [06:23<02:34,  2.98s/it]\u001b[A\n",
            " 60% 75/126 [06:26<02:28,  2.91s/it]\u001b[A\n",
            " 60% 76/126 [06:29<02:22,  2.85s/it]\u001b[A\n",
            " 61% 77/126 [06:32<02:17,  2.81s/it]\u001b[A\n",
            " 62% 78/126 [06:34<02:15,  2.82s/it]\u001b[A\n",
            " 63% 79/126 [06:38<02:16,  2.89s/it]\u001b[A\n",
            " 63% 80/126 [06:41<02:15,  2.94s/it]\u001b[A\n",
            " 64% 81/126 [06:43<02:09,  2.89s/it]\u001b[A\n",
            " 65% 82/126 [06:46<02:05,  2.85s/it]\u001b[A\n",
            " 66% 83/126 [06:49<02:02,  2.85s/it]\u001b[A\n",
            " 67% 84/126 [06:52<02:03,  2.93s/it]\u001b[A\n",
            " 67% 85/126 [06:55<02:01,  2.97s/it]\u001b[A\n",
            " 68% 86/126 [06:58<01:55,  2.90s/it]\u001b[A\n",
            " 69% 87/126 [07:01<01:51,  2.85s/it]\u001b[A\n",
            " 70% 88/126 [07:03<01:46,  2.81s/it]\u001b[A\n",
            " 71% 89/126 [07:06<01:44,  2.82s/it]\u001b[A\n",
            " 71% 90/126 [07:09<01:45,  2.92s/it]\u001b[A\n",
            " 72% 91/126 [07:12<01:43,  2.96s/it]\u001b[A\n",
            " 73% 92/126 [07:15<01:38,  2.90s/it]\u001b[A\n",
            " 74% 93/126 [07:18<01:34,  2.86s/it]\u001b[A\n",
            " 75% 94/126 [07:21<01:30,  2.83s/it]\u001b[A\n",
            " 75% 95/126 [07:24<01:30,  2.91s/it]\u001b[A\n",
            " 76% 96/126 [07:27<01:29,  2.98s/it]\u001b[A\n",
            " 77% 97/126 [07:30<01:24,  2.90s/it]\u001b[A\n",
            " 78% 98/126 [07:32<01:19,  2.85s/it]\u001b[A\n",
            " 79% 99/126 [07:35<01:15,  2.81s/it]\u001b[A\n",
            " 79% 100/126 [07:38<01:13,  2.82s/it]\u001b[A\n",
            " 80% 101/126 [07:41<01:12,  2.92s/it]\u001b[A\n",
            " 81% 102/126 [07:44<01:10,  2.94s/it]\u001b[A\n",
            " 82% 103/126 [07:47<01:06,  2.88s/it]\u001b[A\n",
            " 83% 104/126 [07:50<01:02,  2.85s/it]\u001b[A\n",
            " 83% 105/126 [07:52<00:59,  2.82s/it]\u001b[A\n",
            " 84% 106/126 [07:55<00:56,  2.83s/it]\u001b[A\n",
            " 85% 107/126 [07:58<00:55,  2.91s/it]\u001b[A\n",
            " 86% 108/126 [08:01<00:52,  2.93s/it]\u001b[A\n",
            " 87% 109/126 [08:04<00:48,  2.87s/it]\u001b[A\n",
            " 87% 110/126 [08:07<00:45,  2.83s/it]\u001b[A\n",
            " 88% 111/126 [08:09<00:42,  2.83s/it]\u001b[A\n",
            " 89% 112/126 [08:13<00:40,  2.90s/it]\u001b[A\n",
            " 90% 113/126 [08:16<00:39,  3.07s/it]\u001b[A\n",
            " 90% 114/126 [08:20<00:39,  3.27s/it]\u001b[A\n",
            " 91% 115/126 [08:24<00:37,  3.42s/it]\u001b[A\n",
            " 92% 116/126 [08:28<00:37,  3.74s/it]\u001b[A\n",
            " 93% 117/126 [08:32<00:34,  3.84s/it]\u001b[A\n",
            " 94% 118/126 [08:36<00:30,  3.80s/it]\u001b[A\n",
            " 94% 119/126 [08:40<00:26,  3.78s/it]\u001b[A\n",
            " 95% 120/126 [08:44<00:23,  3.86s/it]\u001b[A\n",
            " 96% 121/126 [08:47<00:18,  3.67s/it]\u001b[A\n",
            " 97% 122/126 [08:50<00:13,  3.43s/it]\u001b[A\n",
            " 98% 123/126 [08:52<00:09,  3.24s/it]\u001b[A\n",
            " 98% 124/126 [08:55<00:06,  3.10s/it]\u001b[A\n",
            " 99% 125/126 [08:58<00:03,  3.04s/it]\u001b[A\n",
            "100% 126/126 [09:01<00:00,  4.30s/it]\n",
            "Load checkpoint from: checkpoints/wav2lip.pth\n",
            "Model loaded\n",
            "100% 16/16 [09:39<00:00, 36.20s/it]\n",
            "ffmpeg version 4.4.2-0ubuntu0.22.04.1 Copyright (c) 2000-2021 the FFmpeg developers\n",
            "  built with gcc 11 (Ubuntu 11.2.0-19ubuntu1)\n",
            "  configuration: --prefix=/usr --extra-version=0ubuntu0.22.04.1 --toolchain=hardened --libdir=/usr/lib/x86_64-linux-gnu --incdir=/usr/include/x86_64-linux-gnu --arch=amd64 --enable-gpl --disable-stripping --enable-gnutls --enable-ladspa --enable-libaom --enable-libass --enable-libbluray --enable-libbs2b --enable-libcaca --enable-libcdio --enable-libcodec2 --enable-libdav1d --enable-libflite --enable-libfontconfig --enable-libfreetype --enable-libfribidi --enable-libgme --enable-libgsm --enable-libjack --enable-libmp3lame --enable-libmysofa --enable-libopenjpeg --enable-libopenmpt --enable-libopus --enable-libpulse --enable-librabbitmq --enable-librubberband --enable-libshine --enable-libsnappy --enable-libsoxr --enable-libspeex --enable-libsrt --enable-libssh --enable-libtheora --enable-libtwolame --enable-libvidstab --enable-libvorbis --enable-libvpx --enable-libwebp --enable-libx265 --enable-libxml2 --enable-libxvid --enable-libzimg --enable-libzmq --enable-libzvbi --enable-lv2 --enable-omx --enable-openal --enable-opencl --enable-opengl --enable-sdl2 --enable-pocketsphinx --enable-librsvg --enable-libmfx --enable-libdc1394 --enable-libdrm --enable-libiec61883 --enable-chromaprint --enable-frei0r --enable-libx264 --enable-shared\n",
            "  libavutil      56. 70.100 / 56. 70.100\n",
            "  libavcodec     58.134.100 / 58.134.100\n",
            "  libavformat    58. 76.100 / 58. 76.100\n",
            "  libavdevice    58. 13.100 / 58. 13.100\n",
            "  libavfilter     7.110.100 /  7.110.100\n",
            "  libswscale      5.  9.100 /  5.  9.100\n",
            "  libswresample   3.  9.100 /  3.  9.100\n",
            "  libpostproc    55.  9.100 / 55.  9.100\n",
            "\u001b[0;35m[mp3 @ 0x5c17402b32c0] \u001b[0m\u001b[0;33mEstimating duration from bitrate, this may be inaccurate\n",
            "\u001b[0mInput #0, mp3, from '../sample_data/output10.wav':\n",
            "  Duration: 00:01:07.32, start: 0.000000, bitrate: 96 kb/s\n",
            "  Stream #0:0: Audio: mp3, 44100 Hz, mono, fltp, 96 kb/s\n",
            "Input #1, avi, from 'temp/result.avi':\n",
            "  Metadata:\n",
            "    software        : Lavf59.27.100\n",
            "  Duration: 00:01:07.20, start: 0.000000, bitrate: 2395 kb/s\n",
            "  Stream #1:0: Video: mpeg4 (Simple Profile) (DIVX / 0x58564944), yuv420p, 1280x720 [SAR 1:1 DAR 16:9], 2389 kb/s, 30 fps, 30 tbr, 30 tbn, 30 tbc\n",
            "Stream mapping:\n",
            "  Stream #1:0 -> #0:0 (mpeg4 (native) -> h264 (libx264))\n",
            "  Stream #0:0 -> #0:1 (mp3 (mp3float) -> aac (native))\n",
            "Press [q] to stop, [?] for help\n",
            "\u001b[1;36m[libx264 @ 0x5c17402f81c0] \u001b[0m\u001b[0;33m-qscale is ignored, -crf is recommended.\n",
            "\u001b[0m\u001b[1;36m[libx264 @ 0x5c17402f81c0] \u001b[0musing SAR=1/1\n",
            "\u001b[1;36m[libx264 @ 0x5c17402f81c0] \u001b[0musing cpu capabilities: MMX2 SSE2Fast SSSE3 SSE4.2 AVX FMA3 BMI2 AVX2\n",
            "\u001b[1;36m[libx264 @ 0x5c17402f81c0] \u001b[0mprofile High, level 3.1, 4:2:0, 8-bit\n",
            "\u001b[1;36m[libx264 @ 0x5c17402f81c0] \u001b[0m264 - core 163 r3060 5db6aa6 - H.264/MPEG-4 AVC codec - Copyleft 2003-2021 - http://www.videolan.org/x264.html - options: cabac=1 ref=3 deblock=1:0:0 analyse=0x3:0x113 me=hex subme=7 psy=1 psy_rd=1.00:0.00 mixed_ref=1 me_range=16 chroma_me=1 trellis=1 8x8dct=1 cqm=0 deadzone=21,11 fast_pskip=1 chroma_qp_offset=-2 threads=3 lookahead_threads=1 sliced_threads=0 nr=0 decimate=1 interlaced=0 bluray_compat=0 constrained_intra=0 bframes=3 b_pyramid=2 b_adapt=1 b_bias=0 direct=1 weightb=1 open_gop=0 weightp=2 keyint=250 keyint_min=25 scenecut=40 intra_refresh=0 rc_lookahead=40 rc=crf mbtree=1 crf=23.0 qcomp=0.60 qpmin=0 qpmax=69 qpstep=4 ip_ratio=1.40 aq=1:1.00\n",
            "Output #0, mp4, to 'results/result_voice.mp4':\n",
            "  Metadata:\n",
            "    encoder         : Lavf58.76.100\n",
            "  Stream #0:0: Video: h264 (avc1 / 0x31637661), yuv420p(progressive), 1280x720 [SAR 1:1 DAR 16:9], q=2-31, 30 fps, 15360 tbn\n",
            "    Metadata:\n",
            "      encoder         : Lavc58.134.100 libx264\n",
            "    Side data:\n",
            "      cpb: bitrate max/min/avg: 0/0/0 buffer size: 0 vbv_delay: N/A\n",
            "  Stream #0:1: Audio: aac (LC) (mp4a / 0x6134706D), 44100 Hz, mono, fltp, 69 kb/s\n",
            "    Metadata:\n",
            "      encoder         : Lavc58.134.100 aac\n",
            "frame= 2016 fps= 29 q=-1.0 Lsize=    8237kB time=00:01:07.31 bitrate=1002.4kbits/s speed=0.959x    \n",
            "video:7599kB audio:571kB subtitle:0kB other streams:0kB global headers:0kB muxing overhead: 0.822488%\n",
            "\u001b[1;36m[libx264 @ 0x5c17402f81c0] \u001b[0mframe I:14    Avg QP:16.34  size: 40909\n",
            "\u001b[1;36m[libx264 @ 0x5c17402f81c0] \u001b[0mframe P:1255  Avg QP:21.58  size:  4901\n",
            "\u001b[1;36m[libx264 @ 0x5c17402f81c0] \u001b[0mframe B:747   Avg QP:23.21  size:  1415\n",
            "\u001b[1;36m[libx264 @ 0x5c17402f81c0] \u001b[0mconsecutive B-frames: 42.0% 18.7% 21.7% 17.7%\n",
            "\u001b[1;36m[libx264 @ 0x5c17402f81c0] \u001b[0mmb I  I16..4: 35.5% 57.6%  7.0%\n",
            "\u001b[1;36m[libx264 @ 0x5c17402f81c0] \u001b[0mmb P  I16..4:  1.3%  5.6%  0.1%  P16..4: 21.0%  4.5%  1.9%  0.0%  0.0%    skip:65.6%\n",
            "\u001b[1;36m[libx264 @ 0x5c17402f81c0] \u001b[0mmb B  I16..4:  0.2%  0.7%  0.0%  B16..8: 17.7%  1.3%  0.1%  direct: 0.5%  skip:79.6%  L0:45.2% L1:52.0% BI: 2.8%\n",
            "\u001b[1;36m[libx264 @ 0x5c17402f81c0] \u001b[0m8x8 transform intra:76.5% inter:84.4%\n",
            "\u001b[1;36m[libx264 @ 0x5c17402f81c0] \u001b[0mcoded y,uvDC,uvAC intra: 32.5% 41.1% 7.1% inter: 3.8% 4.6% 0.1%\n",
            "\u001b[1;36m[libx264 @ 0x5c17402f81c0] \u001b[0mi16 v,h,dc,p: 44% 34% 14%  9%\n",
            "\u001b[1;36m[libx264 @ 0x5c17402f81c0] \u001b[0mi8 v,h,dc,ddl,ddr,vr,hd,vl,hu: 27% 22% 40%  2%  2%  2%  2%  2%  2%\n",
            "\u001b[1;36m[libx264 @ 0x5c17402f81c0] \u001b[0mi4 v,h,dc,ddl,ddr,vr,hd,vl,hu: 28% 27% 14%  3%  7%  7%  7%  4%  3%\n",
            "\u001b[1;36m[libx264 @ 0x5c17402f81c0] \u001b[0mi8c dc,h,v,p: 51% 24% 22%  4%\n",
            "\u001b[1;36m[libx264 @ 0x5c17402f81c0] \u001b[0mWeighted P-Frames: Y:0.2% UV:0.0%\n",
            "\u001b[1;36m[libx264 @ 0x5c17402f81c0] \u001b[0mref P L0: 76.2%  8.4% 11.8%  3.6%  0.0%\n",
            "\u001b[1;36m[libx264 @ 0x5c17402f81c0] \u001b[0mref B L0: 85.2% 11.9%  2.9%\n",
            "\u001b[1;36m[libx264 @ 0x5c17402f81c0] \u001b[0mref B L1: 98.4%  1.6%\n",
            "\u001b[1;36m[libx264 @ 0x5c17402f81c0] \u001b[0mkb/s:926.23\n",
            "\u001b[1;36m[aac @ 0x5c17402f9b40] \u001b[0mQavg: 158.533\n"
          ]
        }
      ]
    },
    {
      "cell_type": "code",
      "source": [
        "!cp \"/content/Wav2Lip/results/result_voice.mp4\" \"/content/gdrive/MyDrive/Wav2Lip\""
      ],
      "metadata": {
        "id": "WUXwdnGTx1ii"
      },
      "execution_count": 25,
      "outputs": []
    }
  ]
}